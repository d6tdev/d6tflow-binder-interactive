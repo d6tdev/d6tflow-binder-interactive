{
 "cells": [
  {
   "cell_type": "markdown",
   "metadata": {},
   "source": [
    "# Rapid Prototyping for Quantitative Investing with d6tflow\n",
    "\n",
    "The quantitative investing research typically involves managing complex data dependencies and optimizing many tunable strategy parameters. d6tflow is an easy to use python library for rapid prototyping and experiment management to manage quantitative investing research workflows.\n",
    "\n",
    "https://github.com/d6t/d6tflow"
   ]
  },
  {
   "attachments": {},
   "cell_type": "markdown",
   "metadata": {},
   "source": [
    "### Why standard backtest code is bad\n",
    "\n",
    "The standard way of writing backtest typically involves functions, manually caching data in pickle files and parameters all over the place. This is bad because:\n",
    "* Have to manually track functions, parameters, files\n",
    "* Doesn't scale well as you add complexity\n",
    "* Cumbersome to compare output of different models/parameters\n",
    "* Difficult for others to read and audit\n",
    "* Costly to productionize\n",
    "\n",
    "### Rapid prototyping with d6tflow\n",
    "\n",
    "Instead of writing functions, quantitative investing code is better written as a set of tasks with dependencies between them. That is your workflow should be a DAG.\n",
    "\n",
    "The benefits of doings this are:\n",
    "* Easily define tasks with dependencies and parameters\n",
    "* Intelligently run workflow with dependencies/parameters\n",
    "* Easily compare results of different models/parameters\n",
    "* Lightweight and quick to learn yet powerful\n",
    "* Code scales well and is easy to audit\n",
    "* Quick to productionize\n",
    "\n",
    "For more details see [4 Reasons Why Your Machine Learning Code is Probably Bad](https://github.com/d6t/d6t-python/blob/master/blogs/reasons-why-bad-ml-code.rst)"
   ]
  },
  {
   "cell_type": "markdown",
   "metadata": {},
   "source": [
    "# Example quant trading backtest with d6tflow\n",
    "\n",
    "In this notebook, you have a stylized example of a typical quantitative investing backtest.\n",
    "\n",
    "In 3 simple steps you will:\n",
    "1. Define the backtest workflow: get macro data, generate trading signals, get pricing data and perform backtest\n",
    "2. Define multiple strategies to backtest: change investment universe and backtest period\n",
    "3. Run the backtests and compare pnl performance of the different strategies\n",
    "\n",
    "There underlying notebook is [here on github](https://github.com/d6tdev/d6tflow-binder-interactive/blob/master/example-trading.ipynb) and you can [try it out on this interactive notebook](https://mybinder.org/v2/gh/d6tdev/d6tflow-binder-interactive/master?filepath=example-trading.ipynb)."
   ]
  },
  {
   "cell_type": "markdown",
   "metadata": {},
   "source": [
    "### Step 1: Define backtest workflow\n",
    "\n",
    "With d6tflow, instead of defining functions, you define tasks which have dependencies, parameters and input/output data."
   ]
  },
  {
   "cell_type": "code",
   "execution_count": 17,
   "metadata": {},
   "outputs": [],
   "source": [
    "import d6tflow\n",
    "import pandas as pd\n",
    "import numpy as np\n",
    "import pandas_datareader as pddr\n",
    "import datetime\n",
    "\n",
    "#************************************************************\n",
    "# define workflow\n",
    "#************************************************************\n",
    "\n",
    "# get economic data\n",
    "class GetDataEcon(d6tflow.tasks.TaskPqPandas):\n",
    "    date_start = d6tflow.DateParameter() # define backtest parameter\n",
    "    date_end = d6tflow.DateParameter() # define backtest parameter\n",
    "\n",
    "    def run(self):\n",
    "        df_gdp = pddr.DataReader('CPGDPAI', 'fred', self.date_start, self.date_end)\n",
    "        self.save(df_gdp) # save task output\n",
    "\n",
    "# generate l/s signals\n",
    "@d6tflow.requires(GetDataEcon) # define dependency\n",
    "class TradingSignals(d6tflow.tasks.TaskPqPandas):\n",
    "    lookback_period = d6tflow.IntParameter() # define strategy parameter\n",
    "\n",
    "    def run(self):\n",
    "        df_gdp = self.inputLoad() # load input data\n",
    "\n",
    "        # generate l/s trading signals\n",
    "        df_signal = (df_gdp['CPGDPAI'].diff(self.lookback_period)>0)\n",
    "        df_signal = df_signal.to_frame(name='position')\n",
    "        df_signal['position'] = np.where(df_signal['position'],1,-1)\n",
    "\n",
    "        self.save(df_signal)\n",
    "\n",
    "# get stock prices\n",
    "@d6tflow.requires(GetDataEcon)\n",
    "class GetDataPx(d6tflow.tasks.TaskPqPandas):\n",
    "    symbols = d6tflow.ListParameter() # define universe\n",
    "\n",
    "    def run(self):\n",
    "        df = pddr.DataReader(self.symbols, 'yahoo', self.date_start, self.date_end)\n",
    "        df_rtn = df['Adj Close'].pct_change()\n",
    "        self.save(df_rtn)\n",
    "\n",
    "# run backtest\n",
    "@d6tflow.requires(TradingSignals,GetDataPx)\n",
    "class Backtest(d6tflow.tasks.TaskPqPandas):\n",
    "    persist = ['portfolio','pnl'] # save multiple outputs\n",
    "\n",
    "    def run(self):\n",
    "        df_signal = self.input()[0].load()\n",
    "        df_rtn = self.input()[1].load()\n",
    "\n",
    "        # combine signals and returns\n",
    "        df_portfolio = pd.merge_asof(df_rtn, df_signal, left_index=True, right_index=True)\n",
    "\n",
    "        # calc pnl\n",
    "        df_pnl = df_portfolio[list(self.symbols)].multiply(df_portfolio['position'],axis=0)\n",
    "        df_pnl = df_pnl.add_prefix('rtn_')\n",
    "\n",
    "        self.save({'portfolio':df_portfolio,'pnl':df_pnl})\n"
   ]
  },
  {
   "cell_type": "code",
   "execution_count": 18,
   "metadata": {},
   "outputs": [],
   "source": [
    "# for demo purposes only: reset everything at every run\n",
    "import shutil\n",
    "shutil.rmtree(d6tflow.settings.dirpath, ignore_errors=True)"
   ]
  },
  {
   "cell_type": "markdown",
   "metadata": {},
   "source": [
    "### Step 2: Define strategies\n",
    "\n",
    "We will now define 3 strategies we want to backtest:  \n",
    "1) base strategy  \n",
    "2) change investment universe  \n",
    "3) change time period  \n",
    "\n",
    "Creating new strategies is as easy as changing or adding new parameter and d6tflow will intelligently figure out how to run the backtest."
   ]
  },
  {
   "cell_type": "code",
   "execution_count": 19,
   "metadata": {},
   "outputs": [],
   "source": [
    "#************************************************************\n",
    "# define different strategies to backtest\n",
    "#************************************************************\n",
    "\n",
    "strategy1 = dict(\n",
    "    date_start=datetime.date(2018,1,1),\n",
    "    date_end=datetime.date(2020,1,1),\n",
    "    symbols = ['CAT','WMT'],\n",
    "    lookback_period = 1\n",
    "    )\n",
    "strategy2 = strategy1.copy()\n",
    "strategy2['symbols']=['MSFT','FB'] # run another universe\n",
    "strategy3 = strategy1.copy()\n",
    "strategy3['date_start']= datetime.date(2019,1,1) # run another time period\n"
   ]
  },
  {
   "cell_type": "markdown",
   "metadata": {},
   "source": [
    "### Step 3: Run backtest and compare strategy p&l\n",
    "\n",
    "For each of the strategies, we want to run the backtest and see the strategy pnl.\n",
    "\n",
    "d6tflow automatically executies all backtest dependencies. Before you execute the backtest, you can see what exactly gets executed. This not only makes it easy to see what is going to happen but also makes code easy to audit in code reviews."
   ]
  },
  {
   "cell_type": "code",
   "execution_count": 20,
   "metadata": {},
   "outputs": [
    {
     "name": "stdout",
     "output_type": "stream",
     "text": [
      "\n",
      " ===== Luigi Execution Preview ===== \n",
      "\n",
      "\n",
      "└─--[Backtest-{'date_start': '2018-01-01', 'date_end': '2020-01-01', 'lookback_period': '1', 'symbols': '[\"CAT\", \"WMT\"]'} (\u001b[94mPENDING\u001b[0m)]\n",
      "   |--[TradingSignals- (\u001b[94mPENDING\u001b[0m)]\n",
      "   |  └─--[GetDataEcon- (\u001b[94mPENDING\u001b[0m)]\n",
      "   └─--[GetDataPx- (\u001b[94mPENDING\u001b[0m)]\n",
      "      └─--[GetDataEcon- (\u001b[94mPENDING\u001b[0m)]\n",
      "\n",
      " ===== Luigi Execution Preview ===== \n",
      "\n"
     ]
    }
   ],
   "source": [
    "d6tflow.preview(Backtest(**strategy1))  # show which tasks will be run"
   ]
  },
  {
   "cell_type": "code",
   "execution_count": 21,
   "metadata": {},
   "outputs": [
    {
     "name": "stdout",
     "output_type": "stream",
     "text": [
      "\n",
      "===== Luigi Execution Summary =====\n",
      "\n",
      "Scheduled 4 tasks of which:\n",
      "* 4 ran successfully:\n",
      "    - 1 Backtest(date_start=2018-01-01, date_end=2020-01-01, lookback_period=1, symbols=[\"CAT\", \"WMT\"])\n",
      "    - 1 GetDataEcon(date_start=2018-01-01, date_end=2020-01-01)\n",
      "    - 1 GetDataPx(date_start=2018-01-01, date_end=2020-01-01, symbols=[\"CAT\", \"WMT\"])\n",
      "    - 1 TradingSignals(date_start=2018-01-01, date_end=2020-01-01, lookback_period=1)\n",
      "\n",
      "This progress looks :) because there were no failed tasks or missing dependencies\n",
      "\n",
      "===== Luigi Execution Summary =====\n",
      "\n"
     ]
    },
    {
     "data": {
      "text/plain": [
       "LuigiRunResult(status=<LuigiStatusCode.SUCCESS: (':)', 'there were no failed tasks or missing dependencies')>,worker=<luigi.worker.Worker object at 0x0000020FD06BFFC8>,scheduling_succeeded=True)"
      ]
     },
     "execution_count": 21,
     "metadata": {},
     "output_type": "execute_result"
    }
   ],
   "source": [
    "d6tflow.run(Backtest(**strategy1)) # run backtest including dependencies"
   ]
  },
  {
   "cell_type": "markdown",
   "metadata": {},
   "source": [
    "Having run the base strategy, we can now run the additional strategies. The beauty is that all previously computed data that can be reused, will be reused and do not have to be recomputed. For the strategy with the different universe, only 2 tasks have to be re-run. For the strategy with the updated time period, d6tflow intelligently figures out that all tasks have to be rerun."
   ]
  },
  {
   "cell_type": "code",
   "execution_count": 22,
   "metadata": {},
   "outputs": [
    {
     "name": "stdout",
     "output_type": "stream",
     "text": [
      "\n",
      "===== Luigi Execution Summary =====\n",
      "\n",
      "Scheduled 4 tasks of which:\n",
      "* 2 complete ones were encountered:\n",
      "    - 1 GetDataEcon(date_start=2018-01-01, date_end=2020-01-01)\n",
      "    - 1 TradingSignals(date_start=2018-01-01, date_end=2020-01-01, lookback_period=1)\n",
      "* 2 ran successfully:\n",
      "    - 1 Backtest(date_start=2018-01-01, date_end=2020-01-01, lookback_period=1, symbols=[\"MSFT\", \"FB\"])\n",
      "    - 1 GetDataPx(date_start=2018-01-01, date_end=2020-01-01, symbols=[\"MSFT\", \"FB\"])\n",
      "\n",
      "This progress looks :) because there were no failed tasks or missing dependencies\n",
      "\n",
      "===== Luigi Execution Summary =====\n",
      "\n",
      "\n",
      "===== Luigi Execution Summary =====\n",
      "\n",
      "Scheduled 4 tasks of which:\n",
      "* 4 ran successfully:\n",
      "    - 1 Backtest(date_start=2019-01-01, date_end=2020-01-01, lookback_period=1, symbols=[\"CAT\", \"WMT\"])\n",
      "    - 1 GetDataEcon(date_start=2019-01-01, date_end=2020-01-01)\n",
      "    - 1 GetDataPx(date_start=2019-01-01, date_end=2020-01-01, symbols=[\"CAT\", \"WMT\"])\n",
      "    - 1 TradingSignals(date_start=2019-01-01, date_end=2020-01-01, lookback_period=1)\n",
      "\n",
      "This progress looks :) because there were no failed tasks or missing dependencies\n",
      "\n",
      "===== Luigi Execution Summary =====\n",
      "\n"
     ]
    },
    {
     "data": {
      "text/plain": [
       "LuigiRunResult(status=<LuigiStatusCode.SUCCESS: (':)', 'there were no failed tasks or missing dependencies')>,worker=<luigi.worker.Worker object at 0x0000020FD073EC48>,scheduling_succeeded=True)"
      ]
     },
     "execution_count": 22,
     "metadata": {},
     "output_type": "execute_result"
    }
   ],
   "source": [
    "d6tflow.run(Backtest(**strategy2)) # change universe\n",
    "d6tflow.run(Backtest(**strategy3)) # change time period"
   ]
  },
  {
   "cell_type": "markdown",
   "metadata": {},
   "source": [
    "Now we can easily compare the results of the different strategies. We load the backtest output and compute strategy pnl."
   ]
  },
  {
   "cell_type": "code",
   "execution_count": 23,
   "metadata": {},
   "outputs": [
    {
     "name": "stdout",
     "output_type": "stream",
     "text": [
      "pnl strategy #1: -0.029\n",
      "pnl strategy #2: -0.16\n",
      "pnl strategy #3: -0.449\n"
     ]
    }
   ],
   "source": [
    "for istrat, strategy in enumerate([strategy1,strategy2,strategy3]):\n",
    "    df_pnl1 = Backtest(**strategy).output()['pnl'].load() # load task output\n",
    "    print(f'pnl strategy #{istrat+1}:', df_pnl1.sum().sum().round(3))"
   ]
  },
  {
   "cell_type": "markdown",
   "metadata": {},
   "source": [
    "# Bonus: More Rapid Prototyping\n",
    "\n",
    "After the initial backtest, typically team members and other stakeholders have questions like \"what if you did XYZ?\". This normally means introducing a new parameter and/or updating the tasks. d6tflow makes it easy  to accomodate such questions.\n",
    "\n",
    "1) new parameters: simply add the parameter and run the backtest, d6tflow will intelligently figure out what to do\n",
    "2) updating tasks: edit the code, reset the task and d6tflow will automatically recompute all the downstream dependencies\n",
    "\n",
    "Lets say we want to change the trading signals tasks. You reset that task and only 2 of 5 steps need to be recomputed, which is the task itself and 1 downstream dependency, in this case the backtest task."
   ]
  },
  {
   "cell_type": "code",
   "execution_count": 24,
   "metadata": {},
   "outputs": [
    {
     "name": "stdout",
     "output_type": "stream",
     "text": [
      "\n",
      " ===== Luigi Execution Preview ===== \n",
      "\n",
      "\n",
      "└─--[Backtest-{'date_start': '2018-01-01', 'date_end': '2020-01-01', 'lookback_period': '1', 'symbols': '[\"MSFT\", \"FB\"]'} (\u001b[94mPENDING\u001b[0m)]\n",
      "   |--[TradingSignals- (\u001b[94mPENDING\u001b[0m)]\n",
      "   |  └─--[GetDataEcon- (\u001b[92mCOMPLETE\u001b[0m)]\n",
      "   └─--[GetDataPx- (\u001b[92mCOMPLETE\u001b[0m)]\n",
      "      └─--[GetDataEcon- (\u001b[92mCOMPLETE\u001b[0m)]\n",
      "\n",
      " ===== Luigi Execution Preview ===== \n",
      "\n"
     ]
    }
   ],
   "source": [
    "TradingSignals(**strategy1).reset(confirm=False)\n",
    "d6tflow.preview(Backtest(**strategy2))"
   ]
  },
  {
   "cell_type": "markdown",
   "metadata": {},
   "source": [
    "# Next steps: Transition code to d6tflow\n",
    "\n",
    "Updating your code to work with d6tflow is typically easy, just take your old functions and wrap them into a d6tflow workflow.\n",
    "\n",
    "See https://d6tflow.readthedocs.io/en/latest/transition.html"
   ]
  },
  {
   "cell_type": "markdown",
   "metadata": {},
   "source": [
    "# Reference\n",
    "\n",
    "There underlying notebook is [here on github](https://github.com/d6tdev/d6tflow-binder-interactive/blob/master/example-trading.ipynb) and you can [try it out on this interactive notebook](https://mybinder.org/v2/gh/d6tdev/d6tflow-binder-interactive/master?filepath=example-trading.ipynb)."
   ]
  },
  {
   "cell_type": "markdown",
   "metadata": {},
   "source": [
    "# Disclaimer\n",
    "\n",
    "These materials, and any other information or data conveyed in connection with these materials, is intended for informational purposes only. Under no circumstances are these materials, or any information or data conveyed in connection with such report, to be considered an offer or solicitation of an offer to buy or sell any securities of any company. Nor may these materials, or any information or data conveyed in connection with such report, be relied on in any manner as legal, tax or investment advice. The information and data is not intended to be used as the primary basis of investment decisions and nothing contained herein or conveyed in connection therewith is, or is intended to be, predictive of the movement of the market prices of the securities of the applicable company or companies. The facts and opinions presented are those of the author only and not official opinions of any financial instituion.\n"
   ]
  },
  {
   "cell_type": "code",
   "execution_count": null,
   "metadata": {},
   "outputs": [],
   "source": []
  }
 ],
 "metadata": {
  "kernelspec": {
   "display_name": "Python 3",
   "language": "python",
   "name": "python3"
  },
  "language_info": {
   "codemirror_mode": {
    "name": "ipython",
    "version": 3
   },
   "file_extension": ".py",
   "mimetype": "text/x-python",
   "name": "python",
   "nbconvert_exporter": "python",
   "pygments_lexer": "ipython3",
   "version": "3.7.4"
  }
 },
 "nbformat": 4,
 "nbformat_minor": 2
}
