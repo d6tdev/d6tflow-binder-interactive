{
 "cells": [
  {
   "cell_type": "markdown",
   "metadata": {},
   "source": [
    "# Databolt Flow\n",
    "For data scientists and data engineers, d6tflow is a python library which makes building complex data science workflows easy, fast and intuitive.\n",
    "\n",
    "https://github.com/d6t/d6tflow"
   ]
  },
  {
   "cell_type": "markdown",
   "metadata": {},
   "source": [
    "## Benefits of using d6tflow\n",
    "\n",
    "[4 Reasons Why Your Machine Learning Code is Probably Bad](https://medium.com/@citynorman/4-reasons-why-your-machine-learning-code-is-probably-bad-c291752e4953)"
   ]
  },
  {
   "cell_type": "markdown",
   "metadata": {},
   "source": [
    "# Example Usage For a Machine Learning Workflow\n",
    "\n",
    "Below is an example of a typical machine learning workflow: you retreive data, preprocess it, train a model and evaluate the model output.\n",
    "\n",
    "In this example you will:\n",
    "* Build a machine learning workflow made up of individual tasks\n",
    "* Check task dependencies and their execution status\n",
    "* Execute the model training task including dependencies\n",
    "* Save intermediary task output to Parquet, pickle and in-memory\n",
    "* Load task output to pandas dataframe and model object for model evaluation\n",
    "* Intelligently rerun workflow after changing a preprocessing parameter\n"
   ]
  },
  {
   "cell_type": "code",
   "execution_count": 7,
   "metadata": {},
   "outputs": [],
   "source": [
    "import d6tflow\n",
    "import luigi\n",
    "import sklearn, sklearn.datasets, sklearn.svm\n",
    "import pandas as pd\n",
    "\n",
    "# define workflow\n",
    "class TaskGetData(d6tflow.tasks.TaskPqPandas):  # save dataframe as parquet\n",
    "\n",
    "    def run(self):\n",
    "        iris = sklearn.datasets.load_iris()\n",
    "        df_train = pd.DataFrame(iris.data,columns=['feature{}'.format(i) for i in range(4)])\n",
    "        df_train['y'] = iris.target\n",
    "        self.save(df_train) # quickly save dataframe\n",
    "\n",
    "class TaskPreprocess(d6tflow.tasks.TaskCachePandas):  # save data in memory\n",
    "    do_preprocess = luigi.BoolParameter(default=True) # parameter for preprocessing yes/no\n",
    "\n",
    "    def requires(self):\n",
    "        return TaskGetData() # define dependency\n",
    "\n",
    "    def run(self):\n",
    "        df_train = self.input().load() # quickly load required data\n",
    "        if self.do_preprocess:\n",
    "            df_train.iloc[:,:-1] = sklearn.preprocessing.scale(df_train.iloc[:,:-1])\n",
    "        self.save(df_train)\n",
    "\n",
    "class TaskTrain(d6tflow.tasks.TaskPickle): # save output as pickle\n",
    "    do_preprocess = luigi.BoolParameter(default=True)\n",
    "\n",
    "    def requires(self):\n",
    "        return TaskPreprocess(do_preprocess=self.do_preprocess)\n",
    "\n",
    "    def run(self):\n",
    "        df_train = self.input().load()\n",
    "        model = sklearn.svm.SVC()\n",
    "        model.fit(df_train.iloc[:,:-1], df_train['y'])\n",
    "        self.save(model)\n"
   ]
  },
  {
   "cell_type": "code",
   "execution_count": 8,
   "metadata": {},
   "outputs": [
    {
     "name": "stdout",
     "output_type": "stream",
     "text": [
      "\n",
      "└─--[TaskTrain-{'do_preprocess': 'True'} (\u001b[94mPENDING\u001b[0m)]\n",
      "   └─--[TaskPreprocess-{'do_preprocess': 'True'} (\u001b[94mPENDING\u001b[0m)]\n",
      "      └─--[TaskGetData-{} (\u001b[94mPENDING\u001b[0m)]\n"
     ]
    }
   ],
   "source": [
    "# Check task dependencies and their execution status\n",
    "d6tflow.preview(TaskTrain())\n"
   ]
  },
  {
   "cell_type": "code",
   "execution_count": 9,
   "metadata": {},
   "outputs": [
    {
     "name": "stderr",
     "output_type": "stream",
     "text": [
      "INFO: Informed scheduler that task   TaskTrain_True_e00389f8b2   has status   PENDING\n",
      "INFO: Informed scheduler that task   TaskPreprocess_True_e00389f8b2   has status   PENDING\n",
      "INFO: Informed scheduler that task   TaskGetData__99914b932b   has status   PENDING\n",
      "INFO: Done scheduling tasks\n",
      "INFO: Running Worker with 1 processes\n",
      "INFO: [pid 18452] Worker Worker(salt=074772785, workers=1, host=DESKTOP-5ER1139, username=deepmind, pid=18452) running   TaskGetData()\n",
      "INFO: [pid 18452] Worker Worker(salt=074772785, workers=1, host=DESKTOP-5ER1139, username=deepmind, pid=18452) done      TaskGetData()\n",
      "INFO: Informed scheduler that task   TaskGetData__99914b932b   has status   DONE\n",
      "INFO: [pid 18452] Worker Worker(salt=074772785, workers=1, host=DESKTOP-5ER1139, username=deepmind, pid=18452) running   TaskPreprocess(do_preprocess=True)\n",
      "INFO: [pid 18452] Worker Worker(salt=074772785, workers=1, host=DESKTOP-5ER1139, username=deepmind, pid=18452) done      TaskPreprocess(do_preprocess=True)\n",
      "INFO: Informed scheduler that task   TaskPreprocess_True_e00389f8b2   has status   DONE\n",
      "INFO: [pid 18452] Worker Worker(salt=074772785, workers=1, host=DESKTOP-5ER1139, username=deepmind, pid=18452) running   TaskTrain(do_preprocess=True)\n",
      "INFO: [pid 18452] Worker Worker(salt=074772785, workers=1, host=DESKTOP-5ER1139, username=deepmind, pid=18452) done      TaskTrain(do_preprocess=True)\n",
      "INFO: Informed scheduler that task   TaskTrain_True_e00389f8b2   has status   DONE\n",
      "INFO: Worker Worker(salt=074772785, workers=1, host=DESKTOP-5ER1139, username=deepmind, pid=18452) was stopped. Shutting down Keep-Alive thread\n",
      "INFO: \n",
      "===== Luigi Execution Summary =====\n",
      "\n",
      "Scheduled 3 tasks of which:\n",
      "* 3 ran successfully:\n",
      "    - 1 TaskGetData()\n",
      "    - 1 TaskPreprocess(do_preprocess=True)\n",
      "    - 1 TaskTrain(do_preprocess=True)\n",
      "\n",
      "This progress looks :) because there were no failed tasks or missing dependencies\n",
      "\n",
      "===== Luigi Execution Summary =====\n",
      "\n"
     ]
    },
    {
     "data": {
      "text/plain": [
       "True"
      ]
     },
     "execution_count": 9,
     "metadata": {},
     "output_type": "execute_result"
    }
   ],
   "source": [
    "# Execute the model training task including dependencies\n",
    "d6tflow.run(TaskTrain())\n"
   ]
  },
  {
   "cell_type": "code",
   "execution_count": 10,
   "metadata": {},
   "outputs": [
    {
     "name": "stdout",
     "output_type": "stream",
     "text": [
      "0.9733333333333334\n"
     ]
    }
   ],
   "source": [
    "# Load task output to pandas dataframe and model object for model evaluation\n",
    "model = TaskTrain().output().load()\n",
    "df_train = TaskPreprocess().output().load()\n",
    "print(sklearn.metrics.accuracy_score(df_train['y'],model.predict(df_train.iloc[:,:-1])))\n"
   ]
  },
  {
   "cell_type": "code",
   "execution_count": 11,
   "metadata": {},
   "outputs": [
    {
     "name": "stdout",
     "output_type": "stream",
     "text": [
      "\n",
      "└─--[TaskTrain-{'do_preprocess': 'False'} (\u001b[94mPENDING\u001b[0m)]\n",
      "   └─--[TaskPreprocess-{'do_preprocess': 'False'} (\u001b[92mCOMPLETE\u001b[0m)]\n",
      "      └─--[TaskGetData-{} (\u001b[92mCOMPLETE\u001b[0m)]\n"
     ]
    }
   ],
   "source": [
    "# Intelligently rerun workflow after changing a preprocessing parameter\n",
    "d6tflow.preview(TaskTrain(do_preprocess=False))\n"
   ]
  },
  {
   "cell_type": "code",
   "execution_count": 12,
   "metadata": {},
   "outputs": [
    {
     "name": "stderr",
     "output_type": "stream",
     "text": [
      "INFO: Informed scheduler that task   TaskTrain_False_57897150ee   has status   PENDING\n",
      "INFO: Informed scheduler that task   TaskPreprocess_False_57897150ee   has status   DONE\n",
      "INFO: Done scheduling tasks\n",
      "INFO: Running Worker with 1 processes\n",
      "INFO: [pid 18452] Worker Worker(salt=335940119, workers=1, host=DESKTOP-5ER1139, username=deepmind, pid=18452) running   TaskTrain(do_preprocess=False)\n",
      "INFO: [pid 18452] Worker Worker(salt=335940119, workers=1, host=DESKTOP-5ER1139, username=deepmind, pid=18452) done      TaskTrain(do_preprocess=False)\n",
      "INFO: Informed scheduler that task   TaskTrain_False_57897150ee   has status   DONE\n",
      "INFO: Worker Worker(salt=335940119, workers=1, host=DESKTOP-5ER1139, username=deepmind, pid=18452) was stopped. Shutting down Keep-Alive thread\n",
      "INFO: \n",
      "===== Luigi Execution Summary =====\n",
      "\n",
      "Scheduled 2 tasks of which:\n",
      "* 1 complete ones were encountered:\n",
      "    - 1 TaskPreprocess(do_preprocess=False)\n",
      "* 1 ran successfully:\n",
      "    - 1 TaskTrain(do_preprocess=False)\n",
      "\n",
      "This progress looks :) because there were no failed tasks or missing dependencies\n",
      "\n",
      "===== Luigi Execution Summary =====\n",
      "\n"
     ]
    },
    {
     "data": {
      "text/plain": [
       "True"
      ]
     },
     "execution_count": 12,
     "metadata": {},
     "output_type": "execute_result"
    }
   ],
   "source": [
    "d6tflow.run(TaskTrain(do_preprocess=False)) # execute with new parameter\n"
   ]
  },
  {
   "cell_type": "markdown",
   "metadata": {},
   "source": [
    "# Next steps: Transition code to d6tflow\n",
    "\n",
    "See https://d6tflow.readthedocs.io/en/latest/transition.html"
   ]
  },
  {
   "cell_type": "code",
   "execution_count": null,
   "metadata": {},
   "outputs": [],
   "source": []
  }
 ],
 "metadata": {
  "kernelspec": {
   "display_name": "Python 3",
   "language": "python",
   "name": "python3"
  },
  "language_info": {
   "codemirror_mode": {
    "name": "ipython",
    "version": 3
   },
   "file_extension": ".py",
   "mimetype": "text/x-python",
   "name": "python",
   "nbconvert_exporter": "python",
   "pygments_lexer": "ipython3",
   "version": "3.6.5"
  }
 },
 "nbformat": 4,
 "nbformat_minor": 2
}
