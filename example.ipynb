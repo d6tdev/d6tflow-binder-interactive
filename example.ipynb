{
 "cells": [
  {
   "cell_type": "markdown",
   "metadata": {},
   "source": [
    "# Databolt Flow\n",
    "For data scientists and data engineers, d6tflow is a python library which makes building complex data science workflows easy, fast and intuitive.\n",
    "\n",
    "https://github.com/d6t/d6tflow"
   ]
  },
  {
   "cell_type": "markdown",
   "metadata": {},
   "source": [
    "## Benefits of using d6tflow\n",
    "\n",
    "[4 Reasons Why Your Machine Learning Code is Probably Bad](https://medium.com/@citynorman/4-reasons-why-your-machine-learning-code-is-probably-bad-c291752e4953)"
   ]
  },
  {
   "cell_type": "markdown",
   "metadata": {},
   "source": [
    "# Example Usage For a Machine Learning Workflow\n",
    "\n",
    "Below is an example of a typical machine learning workflow: you retreive data, preprocess it, train a model and evaluate the model output.\n",
    "\n",
    "In this example you will:\n",
    "* Build a machine learning workflow made up of individual tasks\n",
    "* Check task dependencies and their execution status\n",
    "* Execute the model training task including dependencies\n",
    "* Save intermediary task output to Parquet, pickle and in-memory\n",
    "* Load task output to pandas dataframe and model object for model evaluation\n",
    "* Intelligently rerun workflow after changing a preprocessing parameter\n"
   ]
  },
  {
   "cell_type": "code",
   "execution_count": 24,
   "metadata": {},
   "outputs": [],
   "source": [
    "import d6tflow\n",
    "import sklearn, sklearn.datasets, sklearn.linear_model, sklearn.ensemble\n",
    "import pandas as pd\n",
    "\n",
    "# define workflow tasks\n",
    "class GetData(d6tflow.tasks.TaskPqPandas):  # save dataframe as parquet\n",
    "\n",
    "    def run(self):\n",
    "        ds = sklearn.datasets.load_boston()\n",
    "        df_train = pd.DataFrame(ds.data, columns=ds.feature_names)\n",
    "        df_train['y'] = ds.target\n",
    "        self.save(df_train) # quickly save dataframe\n",
    "\n",
    "\n",
    "@d6tflow.requires(GetData) # define dependency\n",
    "class ModelData(d6tflow.tasks.TaskPqPandas):\n",
    "    do_preprocess = d6tflow.BoolParameter(default=True) # parameter for preprocessing yes/no\n",
    "\n",
    "    def run(self):\n",
    "        df_train = self.input().load() # quickly load required data\n",
    "        if self.do_preprocess:\n",
    "            df_train.iloc[:,:-1] = sklearn.preprocessing.scale(df_train.iloc[:,:-1])\n",
    "        self.save(df_train)\n",
    "\n",
    "@d6tflow.requires(ModelData) # automatically pass parameters upstream\n",
    "class ModelTrain(d6tflow.tasks.TaskPickle): # save output as pickle\n",
    "    model = d6tflow.Parameter(default='ols') # parameter for model selection\n",
    "\n",
    "    def run(self):\n",
    "        df_train = self.input().load()\n",
    "        if self.model=='ols':\n",
    "            model = sklearn.linear_model.LinearRegression()\n",
    "        elif self.model=='gbm':\n",
    "            model = sklearn.ensemble.GradientBoostingRegressor()\n",
    "        else:\n",
    "            raise ValueError('invalid model selection')\n",
    "        model.fit(df_train.drop('y',1), df_train['y'])\n",
    "        self.save(model)\n",
    "        self.saveMeta({'score':model.score(df_train.drop('y',1), df_train['y'])})\n"
   ]
  },
  {
   "cell_type": "code",
   "execution_count": 25,
   "metadata": {},
   "outputs": [],
   "source": [
    "# goal: compare performance of two models\n",
    "params_model1 = {'do_preprocess':True, 'model':'ols'}\n",
    "params_model2 = {'do_preprocess':False, 'model':'gbm'}"
   ]
  },
  {
   "cell_type": "code",
   "execution_count": 26,
   "metadata": {},
   "outputs": [
    {
     "data": {
      "text/plain": [
       "{None}"
      ]
     },
     "execution_count": 26,
     "metadata": {},
     "output_type": "execute_result"
    }
   ],
   "source": [
    "# define workflow manager\n",
    "flow = d6tflow.WorkflowMulti(ModelTrain, {'ols':params_model1, 'gbm':params_model2})\n",
    "flow.reset_upstream(confirm=False) # force re-run, ONLY FOR DEMO PURPOSE"
   ]
  },
  {
   "cell_type": "code",
   "execution_count": 27,
   "metadata": {},
   "outputs": [
    {
     "name": "stdout",
     "output_type": "stream",
     "text": [
      "\n",
      " ===== Luigi Execution Preview ===== \n",
      "\n",
      "\n",
      "└─--[ModelTrain-{'do_preprocess': 'True', 'model': 'ols'} (\u001b[94mPENDING\u001b[0m)]\n",
      "   └─--[ModelData- (\u001b[94mPENDING\u001b[0m)]\n",
      "      └─--[GetData- (\u001b[94mPENDING\u001b[0m)]\n",
      "\n",
      " ===== Luigi Execution Preview ===== \n",
      "\n",
      "None\n"
     ]
    }
   ],
   "source": [
    "# visualize workflow\n",
    "print(flow.preview(flow='ols'))"
   ]
  },
  {
   "cell_type": "code",
   "execution_count": 28,
   "metadata": {},
   "outputs": [
    {
     "name": "stdout",
     "output_type": "stream",
     "text": [
      "\n",
      "===== Luigi Execution Summary =====\n",
      "\n",
      "Scheduled 3 tasks of which:\n",
      "* 3 ran successfully:\n",
      "    - 1 GetData()\n",
      "    - 1 ModelData(do_preprocess=True)\n",
      "    - 1 ModelTrain(do_preprocess=True, model=ols)\n",
      "\n",
      "This progress looks :) because there were no failed tasks or missing dependencies\n",
      "\n",
      "===== Luigi Execution Summary =====\n",
      "\n",
      "\n",
      "===== Luigi Execution Summary =====\n",
      "\n",
      "Scheduled 3 tasks of which:\n",
      "* 1 complete ones were encountered:\n",
      "    - 1 GetData()\n",
      "* 2 ran successfully:\n",
      "    - 1 ModelData(do_preprocess=False)\n",
      "    - 1 ModelTrain(do_preprocess=False, model=gbm)\n",
      "\n",
      "This progress looks :) because there were no failed tasks or missing dependencies\n",
      "\n",
      "===== Luigi Execution Summary =====\n",
      "\n"
     ]
    },
    {
     "data": {
      "text/plain": [
       "{'ols': LuigiRunResult(status=<LuigiStatusCode.SUCCESS: (':)', 'there were no failed tasks or missing dependencies')>,worker=<luigi.worker.Worker object at 0x000002693013FB08>,scheduling_succeeded=True),\n",
       " 'gbm': LuigiRunResult(status=<LuigiStatusCode.SUCCESS: (':)', 'there were no failed tasks or missing dependencies')>,worker=<luigi.worker.Worker object at 0x0000026930115788>,scheduling_succeeded=True)}"
      ]
     },
     "execution_count": 28,
     "metadata": {},
     "output_type": "execute_result"
    }
   ],
   "source": [
    "# intelligently figures out which part of the workflow need to run for each model\n",
    "# for example when training model 2, GetData() does not need to run again\n",
    "flow.run()"
   ]
  },
  {
   "cell_type": "code",
   "execution_count": 29,
   "metadata": {},
   "outputs": [
    {
     "name": "stdout",
     "output_type": "stream",
     "text": [
      "{'ols': {'score': 0.7406426641094095}, 'gbm': {'score': 0.9761405838418584}}\n"
     ]
    }
   ],
   "source": [
    "# compare results from models\n",
    "\n",
    "data = flow.outputLoadAll()\n",
    "\n",
    "scores = flow.outputLoadMeta()\n",
    "print(scores)\n",
    "# {'ols': {'score': 0.7406426641094095}, 'gbm': {'score': 0.9761405838418584}}\n",
    "\n"
   ]
  },
  {
   "cell_type": "code",
   "execution_count": 30,
   "metadata": {},
   "outputs": [
    {
     "name": "stdout",
     "output_type": "stream",
     "text": [
      "0.7406426641094095\n",
      "0.9761405838418584\n"
     ]
    }
   ],
   "source": [
    "# get training data and models\n",
    "data_train = flow.outputLoad(task=ModelData)\n",
    "models = flow.outputLoad(task=ModelTrain)\n",
    "\n",
    "print(models['ols'].score(data_train['ols'].drop('y',1), data_train['ols']['y']))\n",
    "# 0.7406426641094095\n",
    "print(models['gbm'].score(data_train['gbm'].drop('y',1), data_train['gbm']['y']))\n",
    "# 0.9761405838418584\n"
   ]
  },
  {
   "cell_type": "markdown",
   "metadata": {},
   "source": [
    "# Next steps: Transition code to d6tflow\n",
    "\n",
    "See https://d6tflow.readthedocs.io/en/latest/transition.html"
   ]
  },
  {
   "cell_type": "code",
   "execution_count": null,
   "metadata": {},
   "outputs": [],
   "source": []
  }
 ],
 "metadata": {
  "kernelspec": {
   "display_name": "Python 3",
   "language": "python",
   "name": "python3"
  },
  "language_info": {
   "codemirror_mode": {
    "name": "ipython",
    "version": 3
   },
   "file_extension": ".py",
   "mimetype": "text/x-python",
   "name": "python",
   "nbconvert_exporter": "python",
   "pygments_lexer": "ipython3",
   "version": "3.7.6"
  }
 },
 "nbformat": 4,
 "nbformat_minor": 2
}
